{
 "cells": [
  {
   "cell_type": "code",
   "execution_count": 2,
   "id": "baa3d4cb",
   "metadata": {},
   "outputs": [
    {
     "name": "stderr",
     "output_type": "stream",
     "text": [
      "In /Users/dornamu/opt/anaconda3/lib/python3.8/site-packages/matplotlib/mpl-data/stylelib/_classic_test.mplstyle: \n",
      "The text.latex.preview rcparam was deprecated in Matplotlib 3.3 and will be removed two minor releases later.\n",
      "In /Users/dornamu/opt/anaconda3/lib/python3.8/site-packages/matplotlib/mpl-data/stylelib/_classic_test.mplstyle: \n",
      "The mathtext.fallback_to_cm rcparam was deprecated in Matplotlib 3.3 and will be removed two minor releases later.\n",
      "In /Users/dornamu/opt/anaconda3/lib/python3.8/site-packages/matplotlib/mpl-data/stylelib/_classic_test.mplstyle: Support for setting the 'mathtext.fallback_to_cm' rcParam is deprecated since 3.3 and will be removed two minor releases later; use 'mathtext.fallback : 'cm' instead.\n",
      "In /Users/dornamu/opt/anaconda3/lib/python3.8/site-packages/matplotlib/mpl-data/stylelib/_classic_test.mplstyle: \n",
      "The validate_bool_maybe_none function was deprecated in Matplotlib 3.3 and will be removed two minor releases later.\n",
      "In /Users/dornamu/opt/anaconda3/lib/python3.8/site-packages/matplotlib/mpl-data/stylelib/_classic_test.mplstyle: \n",
      "The savefig.jpeg_quality rcparam was deprecated in Matplotlib 3.3 and will be removed two minor releases later.\n",
      "In /Users/dornamu/opt/anaconda3/lib/python3.8/site-packages/matplotlib/mpl-data/stylelib/_classic_test.mplstyle: \n",
      "The keymap.all_axes rcparam was deprecated in Matplotlib 3.3 and will be removed two minor releases later.\n",
      "In /Users/dornamu/opt/anaconda3/lib/python3.8/site-packages/matplotlib/mpl-data/stylelib/_classic_test.mplstyle: \n",
      "The animation.avconv_path rcparam was deprecated in Matplotlib 3.3 and will be removed two minor releases later.\n",
      "In /Users/dornamu/opt/anaconda3/lib/python3.8/site-packages/matplotlib/mpl-data/stylelib/_classic_test.mplstyle: \n",
      "The animation.avconv_args rcparam was deprecated in Matplotlib 3.3 and will be removed two minor releases later.\n"
     ]
    }
   ],
   "source": [
    "## import modules\n",
    "import pandas as pd\n",
    "import matplotlib.pyplot as plt\n",
    "import seaborn as sns\n",
    "import dataframe_image as dfi\n",
    "%matplotlib inline"
   ]
  },
  {
   "cell_type": "code",
   "execution_count": 3,
   "id": "fb7956fd",
   "metadata": {},
   "outputs": [
    {
     "name": "stderr",
     "output_type": "stream",
     "text": [
      "/Users/dornamu/opt/anaconda3/lib/python3.8/site-packages/IPython/core/interactiveshell.py:3444: DtypeWarning: Columns (8,12,13,14,15,16,50,51,52,53,55,56,57,58,59,60,61,62,63,64,65,66,67,68,69,70,71,72,73,74,75,76,77,78,79,80,81,82,83,84,85,93,94,95,96,97,98,99,100,101,102,103,104,105,106,107,108,109,110,111,112,113,114,115,116,117,118,119,120,121,122,123,124,125,126,127,128) have mixed types.Specify dtype option on import or set low_memory=False.\n",
      "  exec(code_obj, self.user_global_ns, self.user_ns)\n"
     ]
    }
   ],
   "source": [
    "## import data\n",
    "# 2014\n",
    "df_2014 = pd.read_csv('./stack_overflow_collection/2014 Stack Overflow Survey Responses.csv')\n",
    "df_2014.name = '2014'\n",
    "# 2015\n",
    "df_2015 = pd.read_csv('./stack_overflow_collection/2014 Stack Overflow Survey Responses.csv')\n",
    "df_2015.name = '2015'\n",
    "# 2016\n",
    "df_2016 = pd.read_csv('./stack_overflow_collection/2016 Stack Overflow Survey Results/2016 Stack Overflow Survey Responses.csv')\n",
    "df_2016.name = '2016'\n",
    "# 2017\n",
    "df_2017 = pd.read_csv('./stack_overflow_collection/stack-overflow-developer-survey-2017/survey_results_public.csv')\n",
    "df_2017.name = '2017'\n",
    "# 2018\n",
    "df_2018 = pd.read_csv('./stack_overflow_collection/stack-overflow-developer-survey-2018/survey_results_public.csv')\n",
    "df_2018.name = '2018'\n",
    "# 2019\n",
    "df_2019 = pd.read_csv('./stack_overflow_collection/stack-overflow-developer-survey-2019/survey_results_public.csv')\n",
    "df_2019.name = '2019'\n",
    "# 2020\n",
    "df_2020 = pd.read_csv('./stack_overflow_collection/stack-overflow-developer-survey-2020/survey_results_public.csv')\n",
    "df_2020.name = '2020'\n",
    "# 2021\n",
    "df_2021 = pd.read_csv('./stack_overflow_collection/stack-overflow-developer-survey-2021/survey_results_public.csv')\n",
    "df_2021.name = '2021'"
   ]
  },
  {
   "cell_type": "markdown",
   "id": "43ef18e7",
   "metadata": {},
   "source": [
    "## Data Prep\n",
    "\n",
    "For this step, I'm going to change the values related to gender for consistency.\n",
    "\n",
    "There may of course exist missing values for the gender, salary, and job satisfaction column but I'm not going to fill them in or remove them for the dataframe. The rows with the missing values will instead not be excluded in the code/visualizations pertaining to that column."
   ]
  },
  {
   "cell_type": "code",
   "execution_count": 4,
   "id": "db53ea18",
   "metadata": {},
   "outputs": [],
   "source": [
    "# change column name for gender for consistency\n",
    "df_2014.rename(columns={'What is your gender?': 'Gender'}, inplace = True)\n",
    "df_2015.rename(columns={'What is your gender?': 'Gender'}, inplace = True)\n",
    "df_2016.rename(columns={'gender':'Gender'}, inplace = True)"
   ]
  },
  {
   "cell_type": "code",
   "execution_count": 5,
   "id": "dee7cf09",
   "metadata": {},
   "outputs": [],
   "source": [
    "# create empty df\n",
    "df_gender = pd.DataFrame(columns=['Year','% Female', '% Male'])"
   ]
  },
  {
   "cell_type": "code",
   "execution_count": 6,
   "id": "e16c726d",
   "metadata": {},
   "outputs": [],
   "source": [
    "# define function 'Man' to 'Male', and 'Woman' to 'Female' (again, for consistency)\n",
    "def apply_fix(word):\n",
    "    '''Returns \"Male\" for \"Man\" and \"Female\" for \"Woman\", other gender identies are returned\n",
    "    without change'''\n",
    "    if word == 'Man':\n",
    "        return 'Male'\n",
    "    elif word == 'Woman':\n",
    "        return 'Female'\n",
    "    else:\n",
    "        return word"
   ]
  },
  {
   "cell_type": "markdown",
   "id": "cd57ece5",
   "metadata": {},
   "source": [
    "## 1. How has the gender representation in the stackoverflow survey response changed over the years?"
   ]
  },
  {
   "cell_type": "code",
   "execution_count": 7,
   "id": "0686b1a3",
   "metadata": {},
   "outputs": [],
   "source": [
    "# apply function\n",
    "df_list = [df_2017,df_2018,df_2019,df_2020,df_2021]\n",
    "for df in df_list:\n",
    "    df['Gender'] = df['Gender'].apply(apply_fix)"
   ]
  },
  {
   "cell_type": "code",
   "execution_count": 8,
   "id": "79674a02",
   "metadata": {},
   "outputs": [
    {
     "data": {
      "text/html": [
       "<div>\n",
       "<style scoped>\n",
       "    .dataframe tbody tr th:only-of-type {\n",
       "        vertical-align: middle;\n",
       "    }\n",
       "\n",
       "    .dataframe tbody tr th {\n",
       "        vertical-align: top;\n",
       "    }\n",
       "\n",
       "    .dataframe thead th {\n",
       "        text-align: right;\n",
       "    }\n",
       "</style>\n",
       "<table border=\"1\" class=\"dataframe\">\n",
       "  <thead>\n",
       "    <tr style=\"text-align: right;\">\n",
       "      <th></th>\n",
       "      <th>Year</th>\n",
       "      <th>% Female</th>\n",
       "      <th>% Male</th>\n",
       "    </tr>\n",
       "  </thead>\n",
       "  <tbody>\n",
       "    <tr>\n",
       "      <th>0</th>\n",
       "      <td>2014</td>\n",
       "      <td>4.878049</td>\n",
       "      <td>95.121951</td>\n",
       "    </tr>\n",
       "    <tr>\n",
       "      <th>1</th>\n",
       "      <td>2015</td>\n",
       "      <td>4.878049</td>\n",
       "      <td>95.121951</td>\n",
       "    </tr>\n",
       "    <tr>\n",
       "      <th>2</th>\n",
       "      <td>2016</td>\n",
       "      <td>5.865543</td>\n",
       "      <td>94.134457</td>\n",
       "    </tr>\n",
       "    <tr>\n",
       "      <th>3</th>\n",
       "      <td>2017</td>\n",
       "      <td>7.604785</td>\n",
       "      <td>92.395215</td>\n",
       "    </tr>\n",
       "    <tr>\n",
       "      <th>4</th>\n",
       "      <td>2018</td>\n",
       "      <td>6.340280</td>\n",
       "      <td>93.659720</td>\n",
       "    </tr>\n",
       "    <tr>\n",
       "      <th>5</th>\n",
       "      <td>2019</td>\n",
       "      <td>7.528809</td>\n",
       "      <td>92.471191</td>\n",
       "    </tr>\n",
       "    <tr>\n",
       "      <th>6</th>\n",
       "      <td>2020</td>\n",
       "      <td>7.710051</td>\n",
       "      <td>92.289949</td>\n",
       "    </tr>\n",
       "    <tr>\n",
       "      <th>7</th>\n",
       "      <td>2021</td>\n",
       "      <td>5.219352</td>\n",
       "      <td>94.780648</td>\n",
       "    </tr>\n",
       "  </tbody>\n",
       "</table>\n",
       "</div>"
      ],
      "text/plain": [
       "   Year  % Female     % Male\n",
       "0  2014  4.878049  95.121951\n",
       "1  2015  4.878049  95.121951\n",
       "2  2016  5.865543  94.134457\n",
       "3  2017  7.604785  92.395215\n",
       "4  2018  6.340280  93.659720\n",
       "5  2019  7.528809  92.471191\n",
       "6  2020  7.710051  92.289949\n",
       "7  2021  5.219352  94.780648"
      ]
     },
     "execution_count": 8,
     "metadata": {},
     "output_type": "execute_result"
    }
   ],
   "source": [
    "# populate empty df_gender \n",
    "df_list = [df_2014,df_2015,df_2016,df_2017,df_2018,df_2019,df_2020,df_2021]\n",
    "for df in df_list:\n",
    "    year = df.name\n",
    "    f_perc = (df.groupby('Gender').size()['Female']/(df.groupby('Gender').size()['Female'] + df.groupby('Gender').size()['Male'])) * 100\n",
    "    m_perc = (df.groupby('Gender').size()['Male']/(df.groupby('Gender').size()['Female'] + df.groupby('Gender').size()['Male'])) * 100\n",
    "    df_gender = df_gender.append({'Year':year, '% Female': f_perc, '% Male': m_perc}, ignore_index=True)\n",
    "\n",
    "df_gender   "
   ]
  },
  {
   "cell_type": "code",
   "execution_count": 9,
   "id": "83d045ed",
   "metadata": {},
   "outputs": [
    {
     "data": {
      "image/png": "[encoded data removed]",
      "text/plain": [
       "<Figure size 432x288 with 1 Axes>"
      ]
     },
     "metadata": {
      "needs_background": "light"
     },
     "output_type": "display_data"
    }
   ],
   "source": [
    "# Plot % Female and % Male respondents over the years\n",
    "\n",
    "fig, ax = plt.subplots()\n",
    "\n",
    "x = df_gender['Year']\n",
    "y_f = df_gender['% Female']\n",
    "y_m = df_gender['% Male']\n",
    "ax.plot(x, y_f, color = 'blue', label = '% Female')\n",
    "ax.plot(x, y_m, color = 'orange', label = '% Male')\n",
    "ax.legend(loc = 'upper left')\n",
    "plt.savefig('gender_response.png')\n",
    "plt.show()"
   ]
  },
  {
   "cell_type": "code",
   "execution_count": 10,
   "id": "0b1b3f4d",
   "metadata": {},
   "outputs": [
    {
     "data": {
      "image/png": "[encoded data removed]",
      "text/plain": [
       "<Figure size 432x288 with 1 Axes>"
      ]
     },
     "metadata": {
      "needs_background": "light"
     },
     "output_type": "display_data"
    }
   ],
   "source": [
    "# Plot % Female respondents only to see how it has changed over the years\n",
    "fig, ax = plt.subplots()\n",
    "\n",
    "x = df_gender['Year']\n",
    "y_f = df_gender['% Female']\n",
    "ax.plot(x, y_f, color = 'blue', label = '% Female')\n",
    "ax.legend(loc = 'upper left')\n",
    "plt.savefig('female_response.png')\n",
    "plt.show()"
   ]
  },
  {
   "cell_type": "code",
   "execution_count": 11,
   "id": "ae53efda",
   "metadata": {},
   "outputs": [
    {
     "name": "stdout",
     "output_type": "stream",
     "text": [
      "7644\n",
      "83439\n"
     ]
    }
   ],
   "source": [
    "## quick question, did the number of respondents drastically decrease in 2021\n",
    "\n",
    "print(len(df_2014.Gender))\n",
    "print(len(df_2021.Gender))"
   ]
  },
  {
   "cell_type": "code",
   "execution_count": 12,
   "id": "77354468",
   "metadata": {},
   "outputs": [
    {
     "name": "stdout",
     "output_type": "stream",
     "text": [
      "64461\n"
     ]
    }
   ],
   "source": [
    "print(len(df_2020.Gender))"
   ]
  },
  {
   "cell_type": "code",
   "execution_count": 13,
   "id": "2e1a503f",
   "metadata": {},
   "outputs": [
    {
     "data": {
      "text/plain": [
       "[7644, 7644, 56030, 51392, 98855, 88883, 64461, 83439]"
      ]
     },
     "execution_count": 13,
     "metadata": {},
     "output_type": "execute_result"
    }
   ],
   "source": [
    "resp_count = []\n",
    "for df in df_list:\n",
    "    resp_count.append(len(df.Gender))\n",
    "resp_count"
   ]
  },
  {
   "cell_type": "code",
   "execution_count": 14,
   "id": "7d3f9ba7",
   "metadata": {},
   "outputs": [
    {
     "data": {
      "image/png": "[encoded data removed]",
      "text/plain": [
       "<Figure size 720x360 with 1 Axes>"
      ]
     },
     "metadata": {
      "needs_background": "light"
     },
     "output_type": "display_data"
    }
   ],
   "source": [
    "fig = plt.figure(figsize = (10, 5))\n",
    "x = df_gender['Year']\n",
    "y = resp_count\n",
    "# creating the bar plot\n",
    "plt.bar(x, y, color ='maroon',width = 0.4)\n",
    " \n",
    "plt.xlabel(\"Year\")\n",
    "plt.ylabel(\"Count\")\n",
    "plt.title(\"Respondents that Disclosed Gender\")\n",
    "plt.savefig('response_count.png')\n",
    "plt.show()"
   ]
  },
  {
   "cell_type": "markdown",
   "id": "5257ec58",
   "metadata": {},
   "source": [
    "## 2. What was the relationship between salary and gender in 2016?"
   ]
  },
  {
   "cell_type": "code",
   "execution_count": 15,
   "id": "2ffb912f",
   "metadata": {},
   "outputs": [
    {
     "data": {
      "text/plain": [
       "Western Europe     19157\n",
       "North America      15563\n",
       "Eastern Europe      7396\n",
       "South Asia          4894\n",
       "South America       1780\n",
       "Middle East         1653\n",
       "Oceania             1481\n",
       "Southeast Asia       939\n",
       "Africa               874\n",
       "East Asia            819\n",
       "Central America      537\n",
       "Caribbean            151\n",
       "Central Asia         145\n",
       "Antarctica             1\n",
       "Name: so_region, dtype: int64"
      ]
     },
     "execution_count": 15,
     "metadata": {},
     "output_type": "execute_result"
    }
   ],
   "source": [
    "# Get an overview of the data available for each region\n",
    "df_2016['so_region'].value_counts()"
   ]
  },
  {
   "cell_type": "markdown",
   "id": "2f3b7f76",
   "metadata": {},
   "source": [
    "Let's control for region - let's focus on the two regions with the most respondents."
   ]
  },
  {
   "cell_type": "code",
   "execution_count": 16,
   "id": "faed6cb4",
   "metadata": {},
   "outputs": [],
   "source": [
    "# Western Europe\n",
    "df_we = df_2016[df_2016['so_region']=='Western Europe']\n",
    "# North America\n",
    "df_na = df_2016[df_2016['so_region']=='North America']"
   ]
  },
  {
   "cell_type": "code",
   "execution_count": 17,
   "id": "3c614a37",
   "metadata": {},
   "outputs": [
    {
     "name": "stderr",
     "output_type": "stream",
     "text": [
      "/var/folders/15/61ywfr0d2qb148pk2mp6c4840000gn/T/ipykernel_10377/1886364609.py:2: SettingWithCopyWarning: \n",
      "A value is trying to be set on a copy of a slice from a DataFrame.\n",
      "Try using .loc[row_indexer,col_indexer] = value instead\n",
      "\n",
      "See the caveats in the documentation: https://pandas.pydata.org/pandas-docs/stable/user_guide/indexing.html#returning-a-view-versus-a-copy\n",
      "  df_we['Female'] = df_we['Gender'].apply(lambda x: 1 if x == 'Female' else 0)\n",
      "/var/folders/15/61ywfr0d2qb148pk2mp6c4840000gn/T/ipykernel_10377/1886364609.py:3: SettingWithCopyWarning: \n",
      "A value is trying to be set on a copy of a slice from a DataFrame.\n",
      "Try using .loc[row_indexer,col_indexer] = value instead\n",
      "\n",
      "See the caveats in the documentation: https://pandas.pydata.org/pandas-docs/stable/user_guide/indexing.html#returning-a-view-versus-a-copy\n",
      "  df_na['Female'] = df_na['Gender'].apply(lambda x: 1 if x == 'Female' else 0)\n"
     ]
    }
   ],
   "source": [
    "# Create feature to flag whether or not the respond is a female\n",
    "df_we['Female'] = df_we['Gender'].apply(lambda x: 1 if x == 'Female' else 0)\n",
    "df_na['Female'] = df_na['Gender'].apply(lambda x: 1 if x == 'Female' else 0)"
   ]
  },
  {
   "cell_type": "code",
   "execution_count": 18,
   "id": "8bb2edec",
   "metadata": {},
   "outputs": [
    {
     "data": {
      "text/html": [
       "<div>\n",
       "<style scoped>\n",
       "    .dataframe tbody tr th:only-of-type {\n",
       "        vertical-align: middle;\n",
       "    }\n",
       "\n",
       "    .dataframe tbody tr th {\n",
       "        vertical-align: top;\n",
       "    }\n",
       "\n",
       "    .dataframe thead th {\n",
       "        text-align: right;\n",
       "    }\n",
       "</style>\n",
       "<table border=\"1\" class=\"dataframe\">\n",
       "  <thead>\n",
       "    <tr style=\"text-align: right;\">\n",
       "      <th></th>\n",
       "      <th>Unnamed: 0</th>\n",
       "      <th>collector</th>\n",
       "      <th>country</th>\n",
       "      <th>un_subregion</th>\n",
       "      <th>so_region</th>\n",
       "      <th>age_range</th>\n",
       "      <th>age_midpoint</th>\n",
       "      <th>Gender</th>\n",
       "      <th>self_identification</th>\n",
       "      <th>occupation</th>\n",
       "      <th>...</th>\n",
       "      <th>important_newtech</th>\n",
       "      <th>important_buildnew</th>\n",
       "      <th>important_buildexisting</th>\n",
       "      <th>important_promotion</th>\n",
       "      <th>important_companymission</th>\n",
       "      <th>important_wfh</th>\n",
       "      <th>important_ownoffice</th>\n",
       "      <th>developer_challenges</th>\n",
       "      <th>why_stack_overflow</th>\n",
       "      <th>Female</th>\n",
       "    </tr>\n",
       "  </thead>\n",
       "  <tbody>\n",
       "    <tr>\n",
       "      <th>26</th>\n",
       "      <td>348</td>\n",
       "      <td>Facebook</td>\n",
       "      <td>Andorra</td>\n",
       "      <td>Southern Europe</td>\n",
       "      <td>Western Europe</td>\n",
       "      <td>40-49</td>\n",
       "      <td>44.5</td>\n",
       "      <td>Male</td>\n",
       "      <td>Sr. Developer</td>\n",
       "      <td>Desktop developer</td>\n",
       "      <td>...</td>\n",
       "      <td>This is very important</td>\n",
       "      <td>This is very important</td>\n",
       "      <td>This is very important</td>\n",
       "      <td>This is very important</td>\n",
       "      <td>This is somewhat important</td>\n",
       "      <td>This is very important</td>\n",
       "      <td>This is somewhat important</td>\n",
       "      <td>Non-technical management; Changing requirement...</td>\n",
       "      <td>To get help for my job; To give help to others...</td>\n",
       "      <td>0</td>\n",
       "    </tr>\n",
       "    <tr>\n",
       "      <th>27</th>\n",
       "      <td>5609</td>\n",
       "      <td>Facebook</td>\n",
       "      <td>Andorra</td>\n",
       "      <td>Southern Europe</td>\n",
       "      <td>Western Europe</td>\n",
       "      <td>NaN</td>\n",
       "      <td>NaN</td>\n",
       "      <td>NaN</td>\n",
       "      <td>NaN</td>\n",
       "      <td>Mobile developer - Windows Phone</td>\n",
       "      <td>...</td>\n",
       "      <td>NaN</td>\n",
       "      <td>NaN</td>\n",
       "      <td>NaN</td>\n",
       "      <td>NaN</td>\n",
       "      <td>NaN</td>\n",
       "      <td>NaN</td>\n",
       "      <td>NaN</td>\n",
       "      <td>NaN</td>\n",
       "      <td>NaN</td>\n",
       "      <td>0</td>\n",
       "    </tr>\n",
       "    <tr>\n",
       "      <th>28</th>\n",
       "      <td>34171</td>\n",
       "      <td>Facebook</td>\n",
       "      <td>Andorra</td>\n",
       "      <td>Southern Europe</td>\n",
       "      <td>Western Europe</td>\n",
       "      <td>20-24</td>\n",
       "      <td>22.0</td>\n",
       "      <td>Female</td>\n",
       "      <td>Hacker</td>\n",
       "      <td>Data scientist</td>\n",
       "      <td>...</td>\n",
       "      <td>NaN</td>\n",
       "      <td>NaN</td>\n",
       "      <td>NaN</td>\n",
       "      <td>NaN</td>\n",
       "      <td>NaN</td>\n",
       "      <td>NaN</td>\n",
       "      <td>NaN</td>\n",
       "      <td>NaN</td>\n",
       "      <td>NaN</td>\n",
       "      <td>1</td>\n",
       "    </tr>\n",
       "    <tr>\n",
       "      <th>237</th>\n",
       "      <td>312</td>\n",
       "      <td>Facebook</td>\n",
       "      <td>Austria</td>\n",
       "      <td>Western Europe</td>\n",
       "      <td>Western Europe</td>\n",
       "      <td>35-39</td>\n",
       "      <td>37.0</td>\n",
       "      <td>Male</td>\n",
       "      <td>Developer; Engineer; Sr. Developer</td>\n",
       "      <td>Back-end web developer</td>\n",
       "      <td>...</td>\n",
       "      <td>This is somewhat important</td>\n",
       "      <td>This is very important</td>\n",
       "      <td>This is very important</td>\n",
       "      <td>This is somewhat important</td>\n",
       "      <td>This is very important</td>\n",
       "      <td>This is somewhat important</td>\n",
       "      <td>This is somewhat important</td>\n",
       "      <td>Interacting with non-technical people; Unspeci...</td>\n",
       "      <td>To get help for my job; To receive help on my ...</td>\n",
       "      <td>0</td>\n",
       "    </tr>\n",
       "    <tr>\n",
       "      <th>238</th>\n",
       "      <td>1286</td>\n",
       "      <td>Facebook</td>\n",
       "      <td>Austria</td>\n",
       "      <td>Western Europe</td>\n",
       "      <td>Western Europe</td>\n",
       "      <td>35-39</td>\n",
       "      <td>37.0</td>\n",
       "      <td>Male</td>\n",
       "      <td>Developer; Engineer; Programmer; Sr. Developer...</td>\n",
       "      <td>NaN</td>\n",
       "      <td>...</td>\n",
       "      <td>NaN</td>\n",
       "      <td>NaN</td>\n",
       "      <td>NaN</td>\n",
       "      <td>NaN</td>\n",
       "      <td>NaN</td>\n",
       "      <td>NaN</td>\n",
       "      <td>NaN</td>\n",
       "      <td>NaN</td>\n",
       "      <td>NaN</td>\n",
       "      <td>0</td>\n",
       "    </tr>\n",
       "    <tr>\n",
       "      <th>...</th>\n",
       "      <td>...</td>\n",
       "      <td>...</td>\n",
       "      <td>...</td>\n",
       "      <td>...</td>\n",
       "      <td>...</td>\n",
       "      <td>...</td>\n",
       "      <td>...</td>\n",
       "      <td>...</td>\n",
       "      <td>...</td>\n",
       "      <td>...</td>\n",
       "      <td>...</td>\n",
       "      <td>...</td>\n",
       "      <td>...</td>\n",
       "      <td>...</td>\n",
       "      <td>...</td>\n",
       "      <td>...</td>\n",
       "      <td>...</td>\n",
       "      <td>...</td>\n",
       "      <td>...</td>\n",
       "      <td>...</td>\n",
       "      <td>...</td>\n",
       "    </tr>\n",
       "    <tr>\n",
       "      <th>55157</th>\n",
       "      <td>52757</td>\n",
       "      <td>Twitter</td>\n",
       "      <td>United Kingdom</td>\n",
       "      <td>Northern Europe</td>\n",
       "      <td>Western Europe</td>\n",
       "      <td>25-29</td>\n",
       "      <td>27.0</td>\n",
       "      <td>Male</td>\n",
       "      <td>Developer; Programmer</td>\n",
       "      <td>other</td>\n",
       "      <td>...</td>\n",
       "      <td>This is very important</td>\n",
       "      <td>This is very important</td>\n",
       "      <td>This is somewhat important</td>\n",
       "      <td>I don't care about this</td>\n",
       "      <td>This is somewhat important</td>\n",
       "      <td>This is somewhat important</td>\n",
       "      <td>I don't care about this</td>\n",
       "      <td>Fragile code base; Unrealistic expectations; P...</td>\n",
       "      <td>To get help for my job; To give help to others...</td>\n",
       "      <td>0</td>\n",
       "    </tr>\n",
       "    <tr>\n",
       "      <th>55158</th>\n",
       "      <td>52761</td>\n",
       "      <td>Twitter</td>\n",
       "      <td>United Kingdom</td>\n",
       "      <td>Northern Europe</td>\n",
       "      <td>Western Europe</td>\n",
       "      <td>30-34</td>\n",
       "      <td>32.0</td>\n",
       "      <td>Male</td>\n",
       "      <td>Developer; Programmer; Sr. Developer</td>\n",
       "      <td>NaN</td>\n",
       "      <td>...</td>\n",
       "      <td>NaN</td>\n",
       "      <td>NaN</td>\n",
       "      <td>NaN</td>\n",
       "      <td>NaN</td>\n",
       "      <td>NaN</td>\n",
       "      <td>NaN</td>\n",
       "      <td>NaN</td>\n",
       "      <td>NaN</td>\n",
       "      <td>NaN</td>\n",
       "      <td>0</td>\n",
       "    </tr>\n",
       "    <tr>\n",
       "      <th>55159</th>\n",
       "      <td>52772</td>\n",
       "      <td>Twitter</td>\n",
       "      <td>United Kingdom</td>\n",
       "      <td>Northern Europe</td>\n",
       "      <td>Western Europe</td>\n",
       "      <td>30-34</td>\n",
       "      <td>32.0</td>\n",
       "      <td>Male</td>\n",
       "      <td>Developer; Engineer; Programmer; Sr. Developer</td>\n",
       "      <td>Mobile developer - iOS</td>\n",
       "      <td>...</td>\n",
       "      <td>This is very important</td>\n",
       "      <td>This is very important</td>\n",
       "      <td>This is somewhat important</td>\n",
       "      <td>This is somewhat important</td>\n",
       "      <td>This is very important</td>\n",
       "      <td>This is very important</td>\n",
       "      <td>This is very important</td>\n",
       "      <td>Poor team dynamics; Inefficient development pr...</td>\n",
       "      <td>To get help for my job</td>\n",
       "      <td>0</td>\n",
       "    </tr>\n",
       "    <tr>\n",
       "      <th>55160</th>\n",
       "      <td>52783</td>\n",
       "      <td>Twitter</td>\n",
       "      <td>United Kingdom</td>\n",
       "      <td>Northern Europe</td>\n",
       "      <td>Western Europe</td>\n",
       "      <td>35-39</td>\n",
       "      <td>37.0</td>\n",
       "      <td>Male</td>\n",
       "      <td>Developer; Programmer; Sr. Developer; Full-sta...</td>\n",
       "      <td>Front-end web developer</td>\n",
       "      <td>...</td>\n",
       "      <td>This is very important</td>\n",
       "      <td>This is very important</td>\n",
       "      <td>This is somewhat important</td>\n",
       "      <td>This is somewhat important</td>\n",
       "      <td>This is somewhat important</td>\n",
       "      <td>This is very important</td>\n",
       "      <td>This is somewhat important</td>\n",
       "      <td>Changing requirements</td>\n",
       "      <td>To get help for my job; To give help to others...</td>\n",
       "      <td>0</td>\n",
       "    </tr>\n",
       "    <tr>\n",
       "      <th>55161</th>\n",
       "      <td>52838</td>\n",
       "      <td>Twitter</td>\n",
       "      <td>United Kingdom</td>\n",
       "      <td>Northern Europe</td>\n",
       "      <td>Western Europe</td>\n",
       "      <td>30-34</td>\n",
       "      <td>32.0</td>\n",
       "      <td>Male</td>\n",
       "      <td>Developer</td>\n",
       "      <td>Front-end web developer</td>\n",
       "      <td>...</td>\n",
       "      <td>NaN</td>\n",
       "      <td>NaN</td>\n",
       "      <td>NaN</td>\n",
       "      <td>NaN</td>\n",
       "      <td>NaN</td>\n",
       "      <td>NaN</td>\n",
       "      <td>NaN</td>\n",
       "      <td>NaN</td>\n",
       "      <td>NaN</td>\n",
       "      <td>0</td>\n",
       "    </tr>\n",
       "  </tbody>\n",
       "</table>\n",
       "<p>19157 rows × 67 columns</p>\n",
       "</div>"
      ],
      "text/plain": [
       "       Unnamed: 0 collector         country     un_subregion       so_region  \\\n",
       "26            348  Facebook         Andorra  Southern Europe  Western Europe   \n",
       "27           5609  Facebook         Andorra  Southern Europe  Western Europe   \n",
       "28          34171  Facebook         Andorra  Southern Europe  Western Europe   \n",
       "237           312  Facebook         Austria   Western Europe  Western Europe   \n",
       "238          1286  Facebook         Austria   Western Europe  Western Europe   \n",
       "...           ...       ...             ...              ...             ...   \n",
       "55157       52757   Twitter  United Kingdom  Northern Europe  Western Europe   \n",
       "55158       52761   Twitter  United Kingdom  Northern Europe  Western Europe   \n",
       "55159       52772   Twitter  United Kingdom  Northern Europe  Western Europe   \n",
       "55160       52783   Twitter  United Kingdom  Northern Europe  Western Europe   \n",
       "55161       52838   Twitter  United Kingdom  Northern Europe  Western Europe   \n",
       "\n",
       "      age_range  age_midpoint  Gender  \\\n",
       "26        40-49          44.5    Male   \n",
       "27          NaN           NaN     NaN   \n",
       "28        20-24          22.0  Female   \n",
       "237       35-39          37.0    Male   \n",
       "238       35-39          37.0    Male   \n",
       "...         ...           ...     ...   \n",
       "55157     25-29          27.0    Male   \n",
       "55158     30-34          32.0    Male   \n",
       "55159     30-34          32.0    Male   \n",
       "55160     35-39          37.0    Male   \n",
       "55161     30-34          32.0    Male   \n",
       "\n",
       "                                     self_identification  \\\n",
       "26                                         Sr. Developer   \n",
       "27                                                   NaN   \n",
       "28                                                Hacker   \n",
       "237                   Developer; Engineer; Sr. Developer   \n",
       "238    Developer; Engineer; Programmer; Sr. Developer...   \n",
       "...                                                  ...   \n",
       "55157                              Developer; Programmer   \n",
       "55158               Developer; Programmer; Sr. Developer   \n",
       "55159     Developer; Engineer; Programmer; Sr. Developer   \n",
       "55160  Developer; Programmer; Sr. Developer; Full-sta...   \n",
       "55161                                          Developer   \n",
       "\n",
       "                             occupation  ...           important_newtech  \\\n",
       "26                    Desktop developer  ...      This is very important   \n",
       "27     Mobile developer - Windows Phone  ...                         NaN   \n",
       "28                       Data scientist  ...                         NaN   \n",
       "237              Back-end web developer  ...  This is somewhat important   \n",
       "238                                 NaN  ...                         NaN   \n",
       "...                                 ...  ...                         ...   \n",
       "55157                             other  ...      This is very important   \n",
       "55158                               NaN  ...                         NaN   \n",
       "55159            Mobile developer - iOS  ...      This is very important   \n",
       "55160           Front-end web developer  ...      This is very important   \n",
       "55161           Front-end web developer  ...                         NaN   \n",
       "\n",
       "           important_buildnew     important_buildexisting  \\\n",
       "26     This is very important      This is very important   \n",
       "27                        NaN                         NaN   \n",
       "28                        NaN                         NaN   \n",
       "237    This is very important      This is very important   \n",
       "238                       NaN                         NaN   \n",
       "...                       ...                         ...   \n",
       "55157  This is very important  This is somewhat important   \n",
       "55158                     NaN                         NaN   \n",
       "55159  This is very important  This is somewhat important   \n",
       "55160  This is very important  This is somewhat important   \n",
       "55161                     NaN                         NaN   \n",
       "\n",
       "              important_promotion    important_companymission  \\\n",
       "26         This is very important  This is somewhat important   \n",
       "27                            NaN                         NaN   \n",
       "28                            NaN                         NaN   \n",
       "237    This is somewhat important      This is very important   \n",
       "238                           NaN                         NaN   \n",
       "...                           ...                         ...   \n",
       "55157     I don't care about this  This is somewhat important   \n",
       "55158                         NaN                         NaN   \n",
       "55159  This is somewhat important      This is very important   \n",
       "55160  This is somewhat important  This is somewhat important   \n",
       "55161                         NaN                         NaN   \n",
       "\n",
       "                    important_wfh         important_ownoffice  \\\n",
       "26         This is very important  This is somewhat important   \n",
       "27                            NaN                         NaN   \n",
       "28                            NaN                         NaN   \n",
       "237    This is somewhat important  This is somewhat important   \n",
       "238                           NaN                         NaN   \n",
       "...                           ...                         ...   \n",
       "55157  This is somewhat important     I don't care about this   \n",
       "55158                         NaN                         NaN   \n",
       "55159      This is very important      This is very important   \n",
       "55160      This is very important  This is somewhat important   \n",
       "55161                         NaN                         NaN   \n",
       "\n",
       "                                    developer_challenges  \\\n",
       "26     Non-technical management; Changing requirement...   \n",
       "27                                                   NaN   \n",
       "28                                                   NaN   \n",
       "237    Interacting with non-technical people; Unspeci...   \n",
       "238                                                  NaN   \n",
       "...                                                  ...   \n",
       "55157  Fragile code base; Unrealistic expectations; P...   \n",
       "55158                                                NaN   \n",
       "55159  Poor team dynamics; Inefficient development pr...   \n",
       "55160                              Changing requirements   \n",
       "55161                                                NaN   \n",
       "\n",
       "                                      why_stack_overflow  Female  \n",
       "26     To get help for my job; To give help to others...       0  \n",
       "27                                                   NaN       0  \n",
       "28                                                   NaN       1  \n",
       "237    To get help for my job; To receive help on my ...       0  \n",
       "238                                                  NaN       0  \n",
       "...                                                  ...     ...  \n",
       "55157  To get help for my job; To give help to others...       0  \n",
       "55158                                                NaN       0  \n",
       "55159                             To get help for my job       0  \n",
       "55160  To get help for my job; To give help to others...       0  \n",
       "55161                                                NaN       0  \n",
       "\n",
       "[19157 rows x 67 columns]"
      ]
     },
     "execution_count": 18,
     "metadata": {},
     "output_type": "execute_result"
    }
   ],
   "source": [
    "df_we"
   ]
  },
  {
   "cell_type": "code",
   "execution_count": 19,
   "id": "9e1924a8",
   "metadata": {},
   "outputs": [],
   "source": [
    "# seperate by gender\n",
    "df_we_f = df_we[df_we['Female']==1]\n",
    "df_we_m = df_we[df_we['Female']==0]\n",
    "df_na_f = df_na[df_na['Female']==1]\n",
    "df_na_m = df_na[df_na['Female']==0]"
   ]
  },
  {
   "cell_type": "markdown",
   "id": "c996fd3d",
   "metadata": {},
   "source": [
    "**Western Europe**"
   ]
  },
  {
   "cell_type": "code",
   "execution_count": 20,
   "id": "4d679dc1",
   "metadata": {},
   "outputs": [
    {
     "data": {
      "text/plain": [
       "<matplotlib.legend.Legend at 0x7f8e837b0130>"
      ]
     },
     "execution_count": 20,
     "metadata": {},
     "output_type": "execute_result"
    },
    {
     "data": {
      "image/png": "[encoded data removed]",
      "text/plain": [
       "<Figure size 432x288 with 1 Axes>"
      ]
     },
     "metadata": {
      "needs_background": "light"
     },
     "output_type": "display_data"
    }
   ],
   "source": [
    "# KDE plots for each gender on the same chart\n",
    "sns.kdeplot(data=df_we_f['salary_midpoint'], label=\"Female\", shade=True)\n",
    "sns.kdeplot(data=df_we_m['salary_midpoint'], label=\"Male\", shade=True)\n",
    "\n",
    "# Add title\n",
    "plt.title(\"Distribution of Midpoint Salary, by Gender (Western Europe)\")\n",
    "plt.savefig('we_salary.png')\n",
    "plt.legend()"
   ]
  },
  {
   "cell_type": "markdown",
   "id": "01ba8203",
   "metadata": {},
   "source": [
    "**North America**"
   ]
  },
  {
   "cell_type": "code",
   "execution_count": 21,
   "id": "8afdc102",
   "metadata": {},
   "outputs": [
    {
     "data": {
      "text/plain": [
       "<matplotlib.legend.Legend at 0x7f8e83ed4880>"
      ]
     },
     "execution_count": 21,
     "metadata": {},
     "output_type": "execute_result"
    },
    {
     "data": {
      "image/png": "[encoded data removed]",
      "text/plain": [
       "<Figure size 432x288 with 1 Axes>"
      ]
     },
     "metadata": {
      "needs_background": "light"
     },
     "output_type": "display_data"
    }
   ],
   "source": [
    "# KDE plots for each gender on the same chart\n",
    "sns.kdeplot(data=df_na_f['salary_midpoint'], label=\"Female\", shade=True)\n",
    "sns.kdeplot(data=df_na_m['salary_midpoint'], label=\"Male\", shade=True)\n",
    "\n",
    "# Add title\n",
    "plt.title(\"Distribution of Midpoint Salary, by Gender (North America)\")\n",
    "plt.savefig('na_salary.png')\n",
    "plt.legend()"
   ]
  },
  {
   "cell_type": "markdown",
   "id": "8ea5f165",
   "metadata": {},
   "source": [
    "## 3. What is the relationship between gender and job satisfaction?"
   ]
  },
  {
   "cell_type": "code",
   "execution_count": 22,
   "id": "b28dbf7c",
   "metadata": {},
   "outputs": [],
   "source": [
    "## code modified from the course: https://github.com/udacity/DSND_Term2/blob/master/lessons/CRISP_DM/How%20To%20Break%20Into%20the%20Field%20-%20Solution%20.ipynb\n",
    "def clean_and_plot(df, title='Job Satisfaction Level', plot=True):\n",
    "    '''\n",
    "    INPUT \n",
    "        df - a dataframe holding the job_satisfaction column\n",
    "        title - string the title of your plot\n",
    "        axis - axis object\n",
    "        plot - bool providing whether or not you want a plot back\n",
    "        \n",
    "    OUTPUT\n",
    "        props_sat_df_df - a dataframe with the percentage of individuals who selection each job satisfaction level.\n",
    "        Displays a plot of pretty things related to the job_satisfaction column.\n",
    "    '''\n",
    "    job_sat_df = df['job_satisfaction'].value_counts().reset_index()\n",
    "    job_sat_df.rename(columns={'index': 'Job Satisfaction Level', 'job_satisfaction': 'count'}, inplace=True)\n",
    "    #job_sat_df = t.total_count(study, 'method', 'count', possible_vals)\n",
    "\n",
    "    job_sat_df.set_index('Job Satisfaction Level', inplace=True)\n",
    "    if plot:\n",
    "        (job_sat_df/job_sat_df.sum()).plot(kind='bar', legend=None);\n",
    "        plt.title(title);\n",
    "        plt.show()\n",
    "    props_sat_df = job_sat_df/job_sat_df.sum()\n",
    "    return props_sat_df"
   ]
  },
  {
   "cell_type": "code",
   "execution_count": 23,
   "id": "ef1daaf1",
   "metadata": {},
   "outputs": [],
   "source": [
    "# North America\n",
    "f_perc_na = clean_and_plot(df_na_f, 'Female', plot=False)\n",
    "m_perc_na = clean_and_plot(df_na_m, 'Male', plot=False)\n",
    "# Western Europe\n",
    "f_perc_we = clean_and_plot(df_we_f, 'Female', plot=False)\n",
    "m_perc_we = clean_and_plot(df_we_m, 'Male', plot=False)"
   ]
  },
  {
   "cell_type": "markdown",
   "id": "f0f1803a",
   "metadata": {},
   "source": [
    "**Western Europe**"
   ]
  },
  {
   "cell_type": "code",
   "execution_count": 24,
   "id": "14280a7d",
   "metadata": {},
   "outputs": [
    {
     "data": {
      "text/html": [
       "<style type=\"text/css\">\n",
       "#T_0a8b0_row0_col2 {\n",
       "  width: 10em;\n",
       "  height: 80%;\n",
       "  background: linear-gradient(90deg,#d65f5f 38.6%, transparent 38.6%);\n",
       "}\n",
       "#T_0a8b0_row1_col2 {\n",
       "  width: 10em;\n",
       "  height: 80%;\n",
       "  background: linear-gradient(90deg, transparent 38.6%, #5fba7d 38.6%, #5fba7d 100.0%, transparent 100.0%);\n",
       "}\n",
       "#T_0a8b0_row2_col2 {\n",
       "  width: 10em;\n",
       "  height: 80%;\n",
       "  background: linear-gradient(90deg, transparent 35.8%, #d65f5f 35.8%, #d65f5f 38.6%, transparent 38.6%);\n",
       "}\n",
       "#T_0a8b0_row3_col2 {\n",
       "  width: 10em;\n",
       "  height: 80%;\n",
       "  background: linear-gradient(90deg, transparent 11.2%, #d65f5f 11.2%, #d65f5f 38.6%, transparent 38.6%);\n",
       "}\n",
       "#T_0a8b0_row4_col2 {\n",
       "  width: 10em;\n",
       "  height: 80%;\n",
       "  background: linear-gradient(90deg, transparent 38.6%, #5fba7d 38.6%, #5fba7d 43.1%, transparent 43.1%);\n",
       "}\n",
       "#T_0a8b0_row5_col2 {\n",
       "  width: 10em;\n",
       "  height: 80%;\n",
       "  background: linear-gradient(90deg, transparent 38.6%, #5fba7d 38.6%, #5fba7d 43.9%, transparent 43.9%);\n",
       "}\n",
       "#T_0a8b0_row6_col2 {\n",
       "  width: 10em;\n",
       "  height: 80%;\n",
       "  background: linear-gradient(90deg, transparent 36.4%, #d65f5f 36.4%, #d65f5f 38.6%, transparent 38.6%);\n",
       "}\n",
       "</style>\n",
       "<table id=\"T_0a8b0_\">\n",
       "  <thead>\n",
       "    <tr>\n",
       "      <th class=\"blank level0\" >&nbsp;</th>\n",
       "      <th class=\"col_heading level0 col0\" >f_perc</th>\n",
       "      <th class=\"col_heading level0 col1\" >m_perc</th>\n",
       "      <th class=\"col_heading level0 col2\" >Diff_JobSatisfaction_Vals</th>\n",
       "    </tr>\n",
       "    <tr>\n",
       "      <th class=\"index_name level0\" >Job Satisfaction Level</th>\n",
       "      <th class=\"blank col0\" >&nbsp;</th>\n",
       "      <th class=\"blank col1\" >&nbsp;</th>\n",
       "      <th class=\"blank col2\" >&nbsp;</th>\n",
       "    </tr>\n",
       "  </thead>\n",
       "  <tbody>\n",
       "    <tr>\n",
       "      <th id=\"T_0a8b0_level0_row0\" class=\"row_heading level0 row0\" >I'm somewhat satisfied with my job</th>\n",
       "      <td id=\"T_0a8b0_row0_col0\" class=\"data row0 col0\" >0.393657</td>\n",
       "      <td id=\"T_0a8b0_row0_col1\" class=\"data row0 col1\" >0.431276</td>\n",
       "      <td id=\"T_0a8b0_row0_col2\" class=\"data row0 col2\" >-0.037619</td>\n",
       "    </tr>\n",
       "    <tr>\n",
       "      <th id=\"T_0a8b0_level0_row1\" class=\"row_heading level0 row1\" >I love my job</th>\n",
       "      <td id=\"T_0a8b0_row1_col0\" class=\"data row1 col0\" >0.380597</td>\n",
       "      <td id=\"T_0a8b0_row1_col1\" class=\"data row1 col1\" >0.320840</td>\n",
       "      <td id=\"T_0a8b0_row1_col2\" class=\"data row1 col2\" >0.059757</td>\n",
       "    </tr>\n",
       "    <tr>\n",
       "      <th id=\"T_0a8b0_level0_row2\" class=\"row_heading level0 row2\" >I'm somewhat dissatisfied with my job</th>\n",
       "      <td id=\"T_0a8b0_row2_col0\" class=\"data row2 col0\" >0.111940</td>\n",
       "      <td id=\"T_0a8b0_row2_col1\" class=\"data row2 col1\" >0.114745</td>\n",
       "      <td id=\"T_0a8b0_row2_col2\" class=\"data row2 col2\" >-0.002805</td>\n",
       "    </tr>\n",
       "    <tr>\n",
       "      <th id=\"T_0a8b0_level0_row3\" class=\"row_heading level0 row3\" >I'm neither satisfied nor dissatisfied</th>\n",
       "      <td id=\"T_0a8b0_row3_col0\" class=\"data row3 col0\" >0.072761</td>\n",
       "      <td id=\"T_0a8b0_row3_col1\" class=\"data row3 col1\" >0.099431</td>\n",
       "      <td id=\"T_0a8b0_row3_col2\" class=\"data row3 col2\" >-0.026669</td>\n",
       "    </tr>\n",
       "    <tr>\n",
       "      <th id=\"T_0a8b0_level0_row4\" class=\"row_heading level0 row4\" >I hate my job</th>\n",
       "      <td id=\"T_0a8b0_row4_col0\" class=\"data row4 col0\" >0.022388</td>\n",
       "      <td id=\"T_0a8b0_row4_col1\" class=\"data row4 col1\" >0.018008</td>\n",
       "      <td id=\"T_0a8b0_row4_col2\" class=\"data row4 col2\" >0.004380</td>\n",
       "    </tr>\n",
       "    <tr>\n",
       "      <th id=\"T_0a8b0_level0_row5\" class=\"row_heading level0 row5\" >Other (please specify)</th>\n",
       "      <td id=\"T_0a8b0_row5_col0\" class=\"data row5 col0\" >0.014925</td>\n",
       "      <td id=\"T_0a8b0_row5_col1\" class=\"data row5 col1\" >0.009774</td>\n",
       "      <td id=\"T_0a8b0_row5_col2\" class=\"data row5 col2\" >0.005152</td>\n",
       "    </tr>\n",
       "    <tr>\n",
       "      <th id=\"T_0a8b0_level0_row6\" class=\"row_heading level0 row6\" >I don't have a job</th>\n",
       "      <td id=\"T_0a8b0_row6_col0\" class=\"data row6 col0\" >0.003731</td>\n",
       "      <td id=\"T_0a8b0_row6_col1\" class=\"data row6 col1\" >0.005926</td>\n",
       "      <td id=\"T_0a8b0_row6_col2\" class=\"data row6 col2\" >-0.002194</td>\n",
       "    </tr>\n",
       "  </tbody>\n",
       "</table>\n"
      ],
      "text/plain": [
       "<pandas.io.formats.style.Styler at 0x7f8e832de160>"
      ]
     },
     "execution_count": 24,
     "metadata": {},
     "output_type": "execute_result"
    }
   ],
   "source": [
    "comp_df = pd.merge(f_perc_we, m_perc_we, left_index=True, right_index=True)\n",
    "comp_df.columns = ['f_perc', 'm_perc']\n",
    "comp_df['Diff_JobSatisfaction_Vals'] = comp_df['f_perc'] - comp_df['m_perc']\n",
    "comp_df.style.bar(subset=['Diff_JobSatisfaction_Vals'], align='mid', color=['#d65f5f', '#5fba7d'])"
   ]
  },
  {
   "cell_type": "markdown",
   "id": "defffd67",
   "metadata": {},
   "source": [
    "**North America**"
   ]
  },
  {
   "cell_type": "code",
   "execution_count": 25,
   "id": "d555401a",
   "metadata": {},
   "outputs": [
    {
     "data": {
      "text/html": [
       "<style type=\"text/css\">\n",
       "#T_89a94_row0_col2 {\n",
       "  width: 10em;\n",
       "  height: 80%;\n",
       "  background: linear-gradient(90deg, transparent 52.5%, #5fba7d 52.5%, #5fba7d 70.2%, transparent 70.2%);\n",
       "}\n",
       "#T_89a94_row1_col2 {\n",
       "  width: 10em;\n",
       "  height: 80%;\n",
       "  background: linear-gradient(90deg,#d65f5f 52.5%, transparent 52.5%);\n",
       "}\n",
       "#T_89a94_row2_col2 {\n",
       "  width: 10em;\n",
       "  height: 80%;\n",
       "  background: linear-gradient(90deg, transparent 52.5%, #5fba7d 52.5%, #5fba7d 100.0%, transparent 100.0%);\n",
       "}\n",
       "#T_89a94_row3_col2 {\n",
       "  width: 10em;\n",
       "  height: 80%;\n",
       "  background: linear-gradient(90deg, transparent 32.5%, #d65f5f 32.5%, #d65f5f 52.5%, transparent 52.5%);\n",
       "}\n",
       "#T_89a94_row4_col2 {\n",
       "  width: 10em;\n",
       "  height: 80%;\n",
       "  background: linear-gradient(90deg, transparent 47.5%, #d65f5f 47.5%, #d65f5f 52.5%, transparent 52.5%);\n",
       "}\n",
       "#T_89a94_row5_col2 {\n",
       "  width: 10em;\n",
       "  height: 80%;\n",
       "  background: linear-gradient(90deg, transparent 52.5%, #5fba7d 52.5%, #5fba7d 57.6%, transparent 57.6%);\n",
       "}\n",
       "#T_89a94_row6_col2 {\n",
       "  width: 10em;\n",
       "  height: 80%;\n",
       "  background: linear-gradient(90deg, transparent 52.5%, #5fba7d 52.5%, #5fba7d 59.5%, transparent 59.5%);\n",
       "}\n",
       "</style>\n",
       "<table id=\"T_89a94_\">\n",
       "  <thead>\n",
       "    <tr>\n",
       "      <th class=\"blank level0\" >&nbsp;</th>\n",
       "      <th class=\"col_heading level0 col0\" >f_perc</th>\n",
       "      <th class=\"col_heading level0 col1\" >m_perc</th>\n",
       "      <th class=\"col_heading level0 col2\" >Diff_JobSatisfaction_Vals</th>\n",
       "    </tr>\n",
       "    <tr>\n",
       "      <th class=\"index_name level0\" >Job Satisfaction Level</th>\n",
       "      <th class=\"blank col0\" >&nbsp;</th>\n",
       "      <th class=\"blank col1\" >&nbsp;</th>\n",
       "      <th class=\"blank col2\" >&nbsp;</th>\n",
       "    </tr>\n",
       "  </thead>\n",
       "  <tbody>\n",
       "    <tr>\n",
       "      <th id=\"T_89a94_level0_row0\" class=\"row_heading level0 row0\" >I love my job</th>\n",
       "      <td id=\"T_89a94_row0_col0\" class=\"data row0 col0\" >0.376276</td>\n",
       "      <td id=\"T_89a94_row0_col1\" class=\"data row0 col1\" >0.363049</td>\n",
       "      <td id=\"T_89a94_row0_col2\" class=\"data row0 col2\" >0.013227</td>\n",
       "    </tr>\n",
       "    <tr>\n",
       "      <th id=\"T_89a94_level0_row1\" class=\"row_heading level0 row1\" >I'm somewhat satisfied with my job</th>\n",
       "      <td id=\"T_89a94_row1_col0\" class=\"data row1 col0\" >0.362245</td>\n",
       "      <td id=\"T_89a94_row1_col1\" class=\"data row1 col1\" >0.401472</td>\n",
       "      <td id=\"T_89a94_row1_col2\" class=\"data row1 col2\" >-0.039227</td>\n",
       "    </tr>\n",
       "    <tr>\n",
       "      <th id=\"T_89a94_level0_row2\" class=\"row_heading level0 row2\" >I'm somewhat dissatisfied with my job</th>\n",
       "      <td id=\"T_89a94_row2_col0\" class=\"data row2 col0\" >0.140306</td>\n",
       "      <td id=\"T_89a94_row2_col1\" class=\"data row2 col1\" >0.104767</td>\n",
       "      <td id=\"T_89a94_row2_col2\" class=\"data row2 col2\" >0.035539</td>\n",
       "    </tr>\n",
       "    <tr>\n",
       "      <th id=\"T_89a94_level0_row3\" class=\"row_heading level0 row3\" >I'm neither satisfied nor dissatisfied</th>\n",
       "      <td id=\"T_89a94_row3_col0\" class=\"data row3 col0\" >0.072704</td>\n",
       "      <td id=\"T_89a94_row3_col1\" class=\"data row3 col1\" >0.087620</td>\n",
       "      <td id=\"T_89a94_row3_col2\" class=\"data row3 col2\" >-0.014916</td>\n",
       "    </tr>\n",
       "    <tr>\n",
       "      <th id=\"T_89a94_level0_row4\" class=\"row_heading level0 row4\" >I hate my job</th>\n",
       "      <td id=\"T_89a94_row4_col0\" class=\"data row4 col0\" >0.022959</td>\n",
       "      <td id=\"T_89a94_row4_col1\" class=\"data row4 col1\" >0.026663</td>\n",
       "      <td id=\"T_89a94_row4_col2\" class=\"data row4 col2\" >-0.003704</td>\n",
       "    </tr>\n",
       "    <tr>\n",
       "      <th id=\"T_89a94_level0_row5\" class=\"row_heading level0 row5\" >Other (please specify)</th>\n",
       "      <td id=\"T_89a94_row5_col0\" class=\"data row5 col0\" >0.015306</td>\n",
       "      <td id=\"T_89a94_row5_col1\" class=\"data row5 col1\" >0.011491</td>\n",
       "      <td id=\"T_89a94_row5_col2\" class=\"data row5 col2\" >0.003815</td>\n",
       "    </tr>\n",
       "    <tr>\n",
       "      <th id=\"T_89a94_level0_row6\" class=\"row_heading level0 row6\" >I don't have a job</th>\n",
       "      <td id=\"T_89a94_row6_col0\" class=\"data row6 col0\" >0.010204</td>\n",
       "      <td id=\"T_89a94_row6_col1\" class=\"data row6 col1\" >0.004938</td>\n",
       "      <td id=\"T_89a94_row6_col2\" class=\"data row6 col2\" >0.005266</td>\n",
       "    </tr>\n",
       "  </tbody>\n",
       "</table>\n"
      ],
      "text/plain": [
       "<pandas.io.formats.style.Styler at 0x7f8e840ead00>"
      ]
     },
     "execution_count": 25,
     "metadata": {},
     "output_type": "execute_result"
    }
   ],
   "source": [
    "comp_df = pd.merge(f_perc_na, m_perc_na, left_index=True, right_index=True)\n",
    "comp_df.columns = ['f_perc', 'm_perc']\n",
    "comp_df['Diff_JobSatisfaction_Vals'] = comp_df['f_perc'] - comp_df['m_perc']\n",
    "comp_df.style.bar(subset=['Diff_JobSatisfaction_Vals'], align='mid', color=['#d65f5f', '#5fba7d'])"
   ]
  },
  {
   "cell_type": "markdown",
   "id": "d0947d38",
   "metadata": {},
   "source": [
    "**All the regions**"
   ]
  },
  {
   "cell_type": "code",
   "execution_count": 26,
   "id": "57340dba",
   "metadata": {},
   "outputs": [
    {
     "name": "stderr",
     "output_type": "stream",
     "text": [
      "[0429/105154.858339:INFO:headless_shell.cc(659)] Written to file /var/folders/15/61ywfr0d2qb148pk2mp6c4840000gn/T/tmp1s97bg7c/temp.png.\n"
     ]
    }
   ],
   "source": [
    "df_2016['Female'] = df_2016['Gender'].apply(lambda x: 1 if x == 'Female' else 0)\n",
    "\n",
    "df_f = df_2016[df_2016['Female']==1]\n",
    "df_m = df_2016[df_2016['Female']==0]\n",
    "\n",
    "f_perc = clean_and_plot(df_f, 'Female', plot=False)\n",
    "m_perc = clean_and_plot(df_m, 'Male', plot=False)\n",
    "\n",
    "comp_df = pd.merge(f_perc, m_perc, left_index=True, right_index=True)\n",
    "comp_df.columns = ['f_perc', 'm_perc']\n",
    "comp_df['Diff_JobSatisfaction_Vals'] = comp_df['f_perc'] - comp_df['m_perc']\n",
    "comp_df.style.bar(subset=['Diff_JobSatisfaction_Vals'], align='mid', color=['#d65f5f', '#5fba7d'])\n",
    "dfi.export(comp_df.style.bar(subset=['Diff_JobSatisfaction_Vals'], align='mid', color=['#d65f5f', '#5fba7d']), '2016_df.png')"
   ]
  },
  {
   "cell_type": "code",
   "execution_count": 28,
   "id": "c2fb4193",
   "metadata": {},
   "outputs": [
    {
     "name": "stderr",
     "output_type": "stream",
     "text": [
      "[0429/105155.776047:INFO:headless_shell.cc(659)] Written to file /var/folders/15/61ywfr0d2qb148pk2mp6c4840000gn/T/tmpgo0ru5j1/temp.png.\n"
     ]
    }
   ],
   "source": [
    "## In 2020 they did job satisfaction - is there a difference? \n",
    "df_2020['Female'] = df_2020['Gender'].apply(lambda x: 1 if x == 'Female' else 0)\n",
    "\n",
    "#rename column\n",
    "df_2020.rename(columns = {'JobSat':'job_satisfaction'}, inplace = True)\n",
    "\n",
    "df_f = df_2020[df_2020['Female']==1]\n",
    "df_m = df_2020[df_2020['Female']==0]\n",
    "\n",
    "f_perc = clean_and_plot(df_f, 'Female', plot=False)\n",
    "m_perc = clean_and_plot(df_m, 'Male', plot=False)\n",
    "\n",
    "comp_df = pd.merge(f_perc, m_perc, left_index=True, right_index=True)\n",
    "comp_df.columns = ['f_perc', 'm_perc']\n",
    "comp_df['Diff_JobSatisfaction_Vals'] = comp_df['f_perc'] - comp_df['m_perc']\n",
    "comp_df.style.bar(subset=['Diff_JobSatisfaction_Vals'], align='mid', color=['#d65f5f', '#5fba7d'])\n",
    "dfi.export(comp_df.style.bar(subset=['Diff_JobSatisfaction_Vals'], align='mid', color=['#d65f5f', '#5fba7d']), '2020_df.png')"
   ]
  },
  {
   "cell_type": "code",
   "execution_count": null,
   "id": "9fa33340",
   "metadata": {},
   "outputs": [],
   "source": []
  }
 ],
 "metadata": {
  "kernelspec": {
   "display_name": "Python 3 (ipykernel)",
   "language": "python",
   "name": "python3"
  },
  "language_info": {
   "codemirror_mode": {
    "name": "ipython",
    "version": 3
   },
   "file_extension": ".py",
   "mimetype": "text/x-python",
   "name": "python",
   "nbconvert_exporter": "python",
   "pygments_lexer": "ipython3",
   "version": "3.8.12"
  }
 },
 "nbformat": 4,
 "nbformat_minor": 5
}
